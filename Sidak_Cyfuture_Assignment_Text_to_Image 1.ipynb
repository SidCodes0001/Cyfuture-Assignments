{
  "nbformat": 4,
  "nbformat_minor": 0,
  "metadata": {
    "colab": {
      "provenance": [],
      "gpuType": "T4",
      "authorship_tag": "ABX9TyOdfvk8bASsMh22cqoZdbme",
      "include_colab_link": true
    },
    "kernelspec": {
      "name": "python3",
      "display_name": "Python 3"
    },
    "language_info": {
      "name": "python"
    },
    "accelerator": "GPU"
  },
  "cells": [
    {
      "cell_type": "markdown",
      "metadata": {
        "id": "view-in-github",
        "colab_type": "text"
      },
      "source": [
        "<a href=\"https://colab.research.google.com/github/SidCodes0001/Cyfuture-Assignments/blob/main/Sidak_Cyfuture_Assignment_Text_to_Image%201.ipynb\" target=\"_parent\"><img src=\"https://colab.research.google.com/assets/colab-badge.svg\" alt=\"Open In Colab\"/></a>"
      ]
    },
    {
      "cell_type": "markdown",
      "source": [
        "## Installing Necessary Libraries"
      ],
      "metadata": {
        "id": "6ahNydp-x9Ur"
      }
    },
    {
      "cell_type": "code",
      "source": [
        "!pip install invisible_watermark transformers accelerate safetensors diffusers\n"
      ],
      "metadata": {
        "id": "xyproLZQOQqN"
      },
      "execution_count": null,
      "outputs": []
    },
    {
      "cell_type": "code",
      "source": [
        "!pip install diffusers --upgrade\n"
      ],
      "metadata": {
        "id": "7n9sSFdMOMhI"
      },
      "execution_count": null,
      "outputs": []
    },
    {
      "cell_type": "code",
      "source": [
        "import torch"
      ],
      "metadata": {
        "id": "n0_4W9-3JWjR"
      },
      "execution_count": null,
      "outputs": []
    },
    {
      "cell_type": "code",
      "source": [
        "!pip show torch"
      ],
      "metadata": {
        "id": "uELQgKCxJ8dG"
      },
      "execution_count": null,
      "outputs": []
    },
    {
      "cell_type": "markdown",
      "source": [
        "## Login Into Hugging Face using access token"
      ],
      "metadata": {
        "id": "0hylkJiryF2O"
      }
    },
    {
      "cell_type": "code",
      "source": [
        "from google.colab import userdata\n",
        "userdata.get('HuggingFace')"
      ],
      "metadata": {
        "id": "KQDXqjiQQJSC"
      },
      "execution_count": null,
      "outputs": []
    },
    {
      "cell_type": "code",
      "source": [
        "from huggingface_hub import login\n",
        "login()"
      ],
      "metadata": {
        "id": "okbnoohiLokW"
      },
      "execution_count": null,
      "outputs": []
    },
    {
      "cell_type": "code",
      "source": [
        "from diffusers import StableDiffusionInpaintPipeline\n",
        "\n"
      ],
      "metadata": {
        "id": "qz4VOX2lJngc"
      },
      "execution_count": null,
      "outputs": []
    },
    {
      "cell_type": "markdown",
      "source": [
        "## Testing Pipeline"
      ],
      "metadata": {
        "id": "4ycp3CqQyfwk"
      }
    },
    {
      "cell_type": "code",
      "source": [
        "from diffusers import DiffusionPipeline\n",
        "import torch\n",
        "\n",
        "pipe = DiffusionPipeline.from_pretrained(\"stabilityai/stable-diffusion-xl-base-1.0\", torch_dtype=torch.float16, use_safetensors=True, variant=\"fp16\")\n",
        "pipe.to(\"cuda\")\n",
        "\n",
        "# if using torch < 2.0\n",
        "# pipe.enable_xformers_memory_efficient_attention()\n",
        "\n",
        "# prompt = \"An astronaut riding a green horse\"\n",
        "\n",
        "# images = pipe(prompt=prompt).images[0]\n"
      ],
      "metadata": {
        "id": "p1Pid79xMcrE"
      },
      "execution_count": null,
      "outputs": []
    },
    {
      "cell_type": "markdown",
      "source": [
        "## Function for generating images with prompt"
      ],
      "metadata": {
        "id": "jqO8t7wPySla"
      }
    },
    {
      "cell_type": "code",
      "source": [
        "import matplotlib.pyplot as plt\n",
        "def generate_image(pipe, prompt, params):\n",
        "    img = pipe(prompt, **params).images\n",
        "    num_images = len(img)\n",
        "    if num_images > 1:\n",
        "        fig, ax = plt.subplots(nrows=1, ncols=num_images)\n",
        "        for i in range(num_images):\n",
        "            ax[i].imshow(img[i])\n",
        "            ax[i].axis('off')\n",
        "    else:\n",
        "        fig = plt.figure()\n",
        "        plt.imshow(img[0])\n",
        "        plt.axis('off')\n",
        "        plt.tight_layout()"
      ],
      "metadata": {
        "id": "sSJrdCzhSU87"
      },
      "execution_count": null,
      "outputs": []
    },
    {
      "cell_type": "markdown",
      "source": [
        "https://huggingface.co/docs/diffusers/api/pipelines/stable_diffusion/stable_diffusion_xl\n",
        "\n",
        "\n",
        "link for official params documentation for more clarification"
      ],
      "metadata": {
        "id": "tOKdXHySZU-N"
      }
    },
    {
      "cell_type": "markdown",
      "source": [
        "\n",
        "\n",
        "- **prompt (string, required)**: The text prompt that guides the image generation.\n",
        "negative_prompt (string, optional): A prompt describing what you don't want in the image. This can be very effective in refining the output.\n",
        "\n",
        "- **num_inference_steps (int, optional, defaults to 50):** The number of denoising steps performed during the image generation process. More steps generally lead to higher quality but take longer. You can experiment with values between 20 and 100 (or even more).\n",
        "\n",
        "- **guidance_scale (float, optional, defaults to 7.5)**: A value that controls how much the generated image should follow the prompt. Higher values encourage closer adherence to the prompt but can sometimes lead to artifacts or less creative results. Values between 5 and 10 are common.\n",
        "\n",
        "- **num_images_per_prompt (int, optional, defaults to 1)**: The number of images to generate for each prompt. Your code already handles this to display multiple images.\n",
        "\n",
        "- **height (int, optional, defaults to 1024)**: The height of the generated image in pixels. SDXL models are trained at higher resolutions, so using values around 1024x1024 or 768x1024 (or vice versa) is recommended for best results.\n",
        "\n",
        "- **width (int, optional, defaults to 1024)**: The width of the generated image in pixels.\n",
        "\n",
        "- **seed (int, optional)**: A random seed to make the generation deterministic. If you use the same seed and prompt, you should get the same (or very similar) result. This is useful for experimentation and reproducibility."
      ],
      "metadata": {
        "id": "07Jpr86jYY90"
      }
    },
    {
      "cell_type": "markdown",
      "source": [
        "# Inference Without Parameters"
      ],
      "metadata": {
        "id": "Z_RjL_n6xi35"
      }
    },
    {
      "cell_type": "code",
      "source": [
        "prompt = \"a cow boy with green hat on a walk with his cat and a dog\"\n",
        "params = {}\n",
        "generate_image(pipe=pipe,prompt=prompt,params=params)"
      ],
      "metadata": {
        "id": "MEzZkKdaxeHA"
      },
      "execution_count": null,
      "outputs": []
    },
    {
      "cell_type": "markdown",
      "source": [
        "# Inference with some params tweaked"
      ],
      "metadata": {
        "id": "4gIU9DjQxmjQ"
      }
    },
    {
      "cell_type": "code",
      "source": [
        "prompt = \"a cow boy with red hat on a walk with his cat and a dog\"\n",
        "params = {\n",
        "\n",
        "          'num_inference_steps':100,\n",
        "          'num_images_per_prompt': 1\n",
        "\n",
        "\n",
        "}\n",
        "generate_image(pipe=pipe,prompt=prompt,params=params)"
      ],
      "metadata": {
        "id": "fqrYrkAFOvKz"
      },
      "execution_count": null,
      "outputs": []
    },
    {
      "cell_type": "code",
      "source": [
        "prompt = \"a cow boy with red hat on a walk with his cat and a dog\"\n",
        "params = {\n",
        "\n",
        "          'num_inference_steps':300,\n",
        "          'num_images_per_prompt': 1,\n",
        "}\n",
        "generate_image(pipe=pipe,prompt=prompt,params=params)"
      ],
      "metadata": {
        "id": "BUmWmPf41a9h"
      },
      "execution_count": null,
      "outputs": []
    },
    {
      "cell_type": "markdown",
      "source": [
        "## Experimenting with guidance scale\n",
        "\n",
        "The guidance_scale parameter in Stable Diffusion XL, as well as in earlier versions, typically works well within a range of around 5.0 to 10.0.\n",
        "\n",
        "However, it's important to understand that:\n",
        "\n",
        "- Default Value: The default value is often set around 7.5. This is usually a good starting point that balances adherence to the prompt with creative freedom.\n",
        "\n",
        "- Lower Values (e.g., < 5.0): Lower values of guidance_scale tell the model to be less strict about following the prompt. This can lead to more creative and diverse outputs, but the generated images might not always closely match the prompt. Sometimes, very low values can result in incoherent or less defined images.\n",
        "\n",
        "- Higher Values (e.g., > 10.0): Higher values encourage the model to adhere more closely to the prompt. This can result in images that are more aligned with the text description but might also lead to:\n",
        "Oversaturation or artifacts: The colors might become too intense, or strange visual patterns could appear.\n",
        "Less creativity: The model might have less freedom to explore novel interpretations of the prompt.\n",
        "Potential for unnatural or \"over-processed\" look."
      ],
      "metadata": {
        "id": "-WvfJ-p13Pa1"
      }
    },
    {
      "cell_type": "code",
      "source": [
        "prompt = \"a cow boy with red hat on a walk with his cat and a dog\"\n",
        "params = {\n",
        "\n",
        "          'num_inference_steps':200,\n",
        "          'num_images_per_prompt': 1,\n",
        "          'guidance_scale':100\n",
        "\n",
        "\n",
        "}\n",
        "generate_image(pipe=pipe,prompt=prompt,params=params)"
      ],
      "metadata": {
        "id": "2Kq4YUTS1eM5"
      },
      "execution_count": null,
      "outputs": []
    },
    {
      "cell_type": "markdown",
      "source": [
        "the generated image was over saturated and with very intense colours"
      ],
      "metadata": {
        "id": "9cY9iis83ywq"
      }
    },
    {
      "cell_type": "markdown",
      "source": [
        "## experimenting with ideal guidance scale value (5-10)"
      ],
      "metadata": {
        "id": "gCQyEhyE4OG0"
      }
    },
    {
      "cell_type": "code",
      "source": [
        "prompt = \"a cow boy with purple hat on a walk with his horse which is wearing a golden colour bell in his nech\"\n",
        "params = {\n",
        "\n",
        "          'num_inference_steps':100,\n",
        "          'num_images_per_prompt': 2,\n",
        "          'guidance_scale':10\n",
        "\n",
        "\n",
        "}\n",
        "generate_image(pipe=pipe,prompt=prompt,params=params)"
      ],
      "metadata": {
        "id": "KSwFhJgA3BI5"
      },
      "execution_count": null,
      "outputs": []
    },
    {
      "cell_type": "markdown",
      "source": [
        "the result was as we thought so will be"
      ],
      "metadata": {
        "id": "ZG2uLGGB4_tm"
      }
    },
    {
      "cell_type": "markdown",
      "source": [
        "## experimenting with ideal guidance scale value(10) num_inference_steps(300) for good quality and follows the prompt by heart\n"
      ],
      "metadata": {
        "id": "57MECZLi5IGz"
      }
    },
    {
      "cell_type": "code",
      "source": [
        "prompt = \"a cow boy with red hat on a walk with his cat and a dog\"\n",
        "params = {\n",
        "\n",
        "          'num_inference_steps':300,\n",
        "          'num_images_per_prompt': 1,\n",
        "          'guidance_scale':10\n",
        "\n",
        "\n",
        "}\n",
        "generate_image(pipe=pipe,prompt=prompt,params=params)"
      ],
      "metadata": {
        "id": "SvJALnbO4Ndh"
      },
      "execution_count": null,
      "outputs": []
    },
    {
      "cell_type": "markdown",
      "source": [
        "## with more specific prompt"
      ],
      "metadata": {
        "id": "SqY6wc9S7Bc0"
      }
    },
    {
      "cell_type": "code",
      "source": [
        "prompt = \"a cow boy with red hat on a walk with his white horse and cow boy face should be clearly visible\"\n",
        "params = {\n",
        "\n",
        "          'num_inference_steps':300,\n",
        "          'num_images_per_prompt': 1,\n",
        "          'guidance_scale':10\n",
        "\n",
        "\n",
        "}\n",
        "generate_image(pipe=pipe,prompt=prompt,params=params)"
      ],
      "metadata": {
        "id": "3KqtiHYG5kad"
      },
      "execution_count": null,
      "outputs": []
    },
    {
      "cell_type": "code",
      "source": [
        "prompt = \"a cow boy with red hat on a walk with his white horse and cow boy face should be clearly visible, there should be only onw cowboy and one white horse\"\n",
        "params = {\n",
        "\n",
        "          'num_inference_steps':100,\n",
        "          'num_images_per_prompt': 1,\n",
        "          'guidance_scale':10\n",
        "\n",
        "\n",
        "}\n",
        "generate_image(pipe=pipe,prompt=prompt,params=params)"
      ],
      "metadata": {
        "id": "k_JXbBwe6-gt"
      },
      "execution_count": null,
      "outputs": []
    },
    {
      "cell_type": "code",
      "source": [
        "prompt = \"A high-tech futuristic office building with sleek glass and steel architecture, labeled prominently with the company name 'CYFUTURE' in bold, modern font on the front of the building. The building features an impressive elevation with clean lines, reflective surfaces, and advanced design elements like vertical gardens, LED lighting accents, and smart facade patterns. The background includes other corporate buildings and tech offices, suggesting a modern business district. The setting is during daylight with a clear sky, giving a professional and vibrant atmosphere. The scene should be realistic and high resolution.\"\n",
        "\n",
        "\n",
        "params = {\n",
        "\n",
        "          'num_inference_steps':300,\n",
        "          'num_images_per_prompt': 1,\n",
        "          'guidance_scale':10\n",
        "\n",
        "\n",
        "}\n",
        "generate_image(pipe=pipe,prompt=prompt,params=params)"
      ],
      "metadata": {
        "id": "oZa_aKYs84tk"
      },
      "execution_count": null,
      "outputs": []
    },
    {
      "cell_type": "code",
      "source": [
        "prompt = \"Futuristic IT company building for 'CYFUTURE' with sleek glass elevation, bold logo clearly visible. Modern architecture with LED accents, smart design, and vertical elements. Surrounding business district with other tech offices in background. Daytime, clear sky, professional and high-tech environment.\"\n",
        "\n",
        "\n",
        "params = {\n",
        "\n",
        "          'num_inference_steps':300,\n",
        "          'num_images_per_prompt': 1,\n",
        "          'guidance_scale':15\n",
        "\n",
        "\n",
        "}\n",
        "generate_image(pipe=pipe,prompt=prompt,params=params)\n"
      ],
      "metadata": {
        "id": "hqoYeL6w-qPc"
      },
      "execution_count": null,
      "outputs": []
    },
    {
      "cell_type": "markdown",
      "source": [],
      "metadata": {
        "id": "Zzrl5NKSBx27"
      }
    },
    {
      "cell_type": "code",
      "source": [],
      "metadata": {
        "id": "6GHaVceSANos"
      },
      "execution_count": null,
      "outputs": []
    }
  ]
}